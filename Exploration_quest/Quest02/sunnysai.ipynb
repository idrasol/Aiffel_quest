{
 "cells": [
  {
   "cell_type": "code",
   "execution_count": 1,
   "id": "7a3d391b",
   "metadata": {},
   "outputs": [
    {
     "name": "stderr",
     "output_type": "stream",
     "text": [
      "[nltk_data] Downloading package stopwords to /aiffel/nltk_data...\n",
      "[nltk_data]   Unzipping corpora/stopwords.zip.\n"
     ]
    }
   ],
   "source": [
    "import nltk\n",
    "nltk.download('stopwords')\n",
    "\n",
    "import numpy as np\n",
    "import pandas as pd\n",
    "import os\n",
    "import re\n",
    "import matplotlib.pyplot as plt\n",
    "from nltk.corpus import stopwords\n",
    "from bs4 import BeautifulSoup\n",
    "from tensorflow.keras.preprocessing.text import Tokenizer\n",
    "from tensorflow.keras.preprocessing.sequence import pad_sequences\n",
    "import urllib.request\n",
    "import warnings\n",
    "warnings.filterwarnings(\"ignore\", category=UserWarning, module='bs4')"
   ]
  },
  {
   "cell_type": "code",
   "execution_count": 2,
   "id": "56775fbe",
   "metadata": {},
   "outputs": [],
   "source": [
    "import urllib.request\n",
    "urllib.request.urlretrieve(\"https://raw.githubusercontent.com/sunnysai12345/News_Summary/master/news_summary_more.csv\", filename=\"news_summary_more.csv\")\n",
    "data = pd.read_csv('news_summary_more.csv', encoding='iso-8859-1')"
   ]
  },
  {
   "cell_type": "code",
   "execution_count": 3,
   "id": "f2b88567",
   "metadata": {},
   "outputs": [
    {
     "data": {
      "text/html": [
       "<div>\n",
       "<style scoped>\n",
       "    .dataframe tbody tr th:only-of-type {\n",
       "        vertical-align: middle;\n",
       "    }\n",
       "\n",
       "    .dataframe tbody tr th {\n",
       "        vertical-align: top;\n",
       "    }\n",
       "\n",
       "    .dataframe thead th {\n",
       "        text-align: right;\n",
       "    }\n",
       "</style>\n",
       "<table border=\"1\" class=\"dataframe\">\n",
       "  <thead>\n",
       "    <tr style=\"text-align: right;\">\n",
       "      <th></th>\n",
       "      <th>headlines</th>\n",
       "      <th>text</th>\n",
       "    </tr>\n",
       "  </thead>\n",
       "  <tbody>\n",
       "    <tr>\n",
       "      <th>34835</th>\n",
       "      <td>Boxer part of the richest fight to launch own ...</td>\n",
       "      <td>Eight-time world boxing champion Manny Pacquia...</td>\n",
       "    </tr>\n",
       "    <tr>\n",
       "      <th>60273</th>\n",
       "      <td>Jayalalithaa left Sasikala with no protection:...</td>\n",
       "      <td>Jailed AIADMK leader VK Sasikala's brother Div...</td>\n",
       "    </tr>\n",
       "    <tr>\n",
       "      <th>95406</th>\n",
       "      <td>UK police release all 12 suspects in parliamen...</td>\n",
       "      <td>All the 12 people arrested in connection with ...</td>\n",
       "    </tr>\n",
       "    <tr>\n",
       "      <th>41931</th>\n",
       "      <td>Google's proposal to launch Street View in Ind...</td>\n",
       "      <td>The government has reportedly rejected Google'...</td>\n",
       "    </tr>\n",
       "    <tr>\n",
       "      <th>22504</th>\n",
       "      <td>Scientists identify molecule that helps sperm ...</td>\n",
       "      <td>Germany-based scientists have identified a mol...</td>\n",
       "    </tr>\n",
       "    <tr>\n",
       "      <th>33696</th>\n",
       "      <td>Rahul Gandhi's flight to K'taka develops techn...</td>\n",
       "      <td>Congress on Thursday filed a police complaint ...</td>\n",
       "    </tr>\n",
       "    <tr>\n",
       "      <th>53807</th>\n",
       "      <td>Imam apologises for call to kill Jews on US' J...</td>\n",
       "      <td>A US-based Imam has apologised for saying that...</td>\n",
       "    </tr>\n",
       "    <tr>\n",
       "      <th>80746</th>\n",
       "      <td>UK publishes 'Brexit repeal bill' to withdraw ...</td>\n",
       "      <td>UK PM Theresa May on Thursday published the la...</td>\n",
       "    </tr>\n",
       "    <tr>\n",
       "      <th>16122</th>\n",
       "      <td>Gambhir hails current Team India while recalli...</td>\n",
       "      <td>On the 11th anniversary of India's World T20 v...</td>\n",
       "    </tr>\n",
       "    <tr>\n",
       "      <th>67431</th>\n",
       "      <td>Pak a nation of cowards, soon we'll teach less...</td>\n",
       "      <td>Jammu and Kashmir Deputy Chief Minister Nirmal...</td>\n",
       "    </tr>\n",
       "  </tbody>\n",
       "</table>\n",
       "</div>"
      ],
      "text/plain": [
       "                                               headlines  \\\n",
       "34835  Boxer part of the richest fight to launch own ...   \n",
       "60273  Jayalalithaa left Sasikala with no protection:...   \n",
       "95406  UK police release all 12 suspects in parliamen...   \n",
       "41931  Google's proposal to launch Street View in Ind...   \n",
       "22504  Scientists identify molecule that helps sperm ...   \n",
       "33696  Rahul Gandhi's flight to K'taka develops techn...   \n",
       "53807  Imam apologises for call to kill Jews on US' J...   \n",
       "80746  UK publishes 'Brexit repeal bill' to withdraw ...   \n",
       "16122  Gambhir hails current Team India while recalli...   \n",
       "67431  Pak a nation of cowards, soon we'll teach less...   \n",
       "\n",
       "                                                    text  \n",
       "34835  Eight-time world boxing champion Manny Pacquia...  \n",
       "60273  Jailed AIADMK leader VK Sasikala's brother Div...  \n",
       "95406  All the 12 people arrested in connection with ...  \n",
       "41931  The government has reportedly rejected Google'...  \n",
       "22504  Germany-based scientists have identified a mol...  \n",
       "33696  Congress on Thursday filed a police complaint ...  \n",
       "53807  A US-based Imam has apologised for saying that...  \n",
       "80746  UK PM Theresa May on Thursday published the la...  \n",
       "16122  On the 11th anniversary of India's World T20 v...  \n",
       "67431  Jammu and Kashmir Deputy Chief Minister Nirmal...  "
      ]
     },
     "execution_count": 3,
     "metadata": {},
     "output_type": "execute_result"
    }
   ],
   "source": [
    "data.sample(10)"
   ]
  },
  {
   "cell_type": "code",
   "execution_count": 4,
   "id": "2e6c15df",
   "metadata": {},
   "outputs": [
    {
     "name": "stdout",
     "output_type": "stream",
     "text": [
      "전체 샘플수 : 98401\n"
     ]
    }
   ],
   "source": [
    "print('전체 샘플수 :', (len(data)))"
   ]
  },
  {
   "cell_type": "code",
   "execution_count": 5,
   "id": "2f715948",
   "metadata": {},
   "outputs": [
    {
     "data": {
      "text/html": [
       "<div>\n",
       "<style scoped>\n",
       "    .dataframe tbody tr th:only-of-type {\n",
       "        vertical-align: middle;\n",
       "    }\n",
       "\n",
       "    .dataframe tbody tr th {\n",
       "        vertical-align: top;\n",
       "    }\n",
       "\n",
       "    .dataframe thead th {\n",
       "        text-align: right;\n",
       "    }\n",
       "</style>\n",
       "<table border=\"1\" class=\"dataframe\">\n",
       "  <thead>\n",
       "    <tr style=\"text-align: right;\">\n",
       "      <th></th>\n",
       "      <th>headlines</th>\n",
       "      <th>text</th>\n",
       "    </tr>\n",
       "  </thead>\n",
       "  <tbody>\n",
       "    <tr>\n",
       "      <th>0</th>\n",
       "      <td>upGrad learner switches to career in ML &amp; Al w...</td>\n",
       "      <td>Saurav Kant, an alumnus of upGrad and IIIT-B's...</td>\n",
       "    </tr>\n",
       "    <tr>\n",
       "      <th>1</th>\n",
       "      <td>Delhi techie wins free food from Swiggy for on...</td>\n",
       "      <td>Kunal Shah's credit card bill payment platform...</td>\n",
       "    </tr>\n",
       "    <tr>\n",
       "      <th>2</th>\n",
       "      <td>New Zealand end Rohit Sharma-led India's 12-ma...</td>\n",
       "      <td>New Zealand defeated India by 8 wickets in the...</td>\n",
       "    </tr>\n",
       "    <tr>\n",
       "      <th>3</th>\n",
       "      <td>Aegon life iTerm insurance plan helps customer...</td>\n",
       "      <td>With Aegon Life iTerm Insurance plan, customer...</td>\n",
       "    </tr>\n",
       "    <tr>\n",
       "      <th>4</th>\n",
       "      <td>Have known Hirani for yrs, what if MeToo claim...</td>\n",
       "      <td>Speaking about the sexual harassment allegatio...</td>\n",
       "    </tr>\n",
       "  </tbody>\n",
       "</table>\n",
       "</div>"
      ],
      "text/plain": [
       "                                           headlines  \\\n",
       "0  upGrad learner switches to career in ML & Al w...   \n",
       "1  Delhi techie wins free food from Swiggy for on...   \n",
       "2  New Zealand end Rohit Sharma-led India's 12-ma...   \n",
       "3  Aegon life iTerm insurance plan helps customer...   \n",
       "4  Have known Hirani for yrs, what if MeToo claim...   \n",
       "\n",
       "                                                text  \n",
       "0  Saurav Kant, an alumnus of upGrad and IIIT-B's...  \n",
       "1  Kunal Shah's credit card bill payment platform...  \n",
       "2  New Zealand defeated India by 8 wickets in the...  \n",
       "3  With Aegon Life iTerm Insurance plan, customer...  \n",
       "4  Speaking about the sexual harassment allegatio...  "
      ]
     },
     "execution_count": 5,
     "metadata": {},
     "output_type": "execute_result"
    }
   ],
   "source": [
    "data.head()"
   ]
  },
  {
   "cell_type": "code",
   "execution_count": 6,
   "id": "023d6921",
   "metadata": {},
   "outputs": [
    {
     "name": "stdout",
     "output_type": "stream",
     "text": [
      "Text 열에서 중복을 배제한 유일한 샘플의 수 : 98360\n",
      "Headlines 열에서 중복을 배제한 유일한 샘플의 수 : 98280\n"
     ]
    }
   ],
   "source": [
    "print('Text 열에서 중복을 배제한 유일한 샘플의 수 :', data['text'].nunique())\n",
    "print('Headlines 열에서 중복을 배제한 유일한 샘플의 수 :', data['headlines'].nunique())"
   ]
  },
  {
   "cell_type": "code",
   "execution_count": 7,
   "id": "c1b1b308",
   "metadata": {},
   "outputs": [
    {
     "name": "stdout",
     "output_type": "stream",
     "text": [
      "전체 샘플수 : 98360\n"
     ]
    }
   ],
   "source": [
    "data.drop_duplicates(subset = ['text'], inplace=True)\n",
    "print('전체 샘플수 :', (len(data)))"
   ]
  },
  {
   "cell_type": "code",
   "execution_count": 8,
   "id": "0a8c8b4d",
   "metadata": {},
   "outputs": [
    {
     "name": "stdout",
     "output_type": "stream",
     "text": [
      "headlines    0\n",
      "text         0\n",
      "dtype: int64\n"
     ]
    }
   ],
   "source": [
    "print(data.isnull().sum())"
   ]
  },
  {
   "cell_type": "code",
   "execution_count": 9,
   "id": "7be9d7d3",
   "metadata": {},
   "outputs": [
    {
     "name": "stdout",
     "output_type": "stream",
     "text": [
      "정규화 사전의 수:  120\n"
     ]
    }
   ],
   "source": [
    "contractions = {\"ain't\": \"is not\", \"aren't\": \"are not\",\"can't\": \"cannot\", \"'cause\": \"because\", \"could've\": \"could have\", \"couldn't\": \"could not\",\n",
    "                           \"didn't\": \"did not\",  \"doesn't\": \"does not\", \"don't\": \"do not\", \"hadn't\": \"had not\", \"hasn't\": \"has not\", \"haven't\": \"have not\",\n",
    "                           \"he'd\": \"he would\",\"he'll\": \"he will\", \"he's\": \"he is\", \"how'd\": \"how did\", \"how'd'y\": \"how do you\", \"how'll\": \"how will\", \"how's\": \"how is\",\n",
    "                           \"I'd\": \"I would\", \"I'd've\": \"I would have\", \"I'll\": \"I will\", \"I'll've\": \"I will have\",\"I'm\": \"I am\", \"I've\": \"I have\", \"i'd\": \"i would\",\n",
    "                           \"i'd've\": \"i would have\", \"i'll\": \"i will\",  \"i'll've\": \"i will have\",\"i'm\": \"i am\", \"i've\": \"i have\", \"isn't\": \"is not\", \"it'd\": \"it would\",\n",
    "                           \"it'd've\": \"it would have\", \"it'll\": \"it will\", \"it'll've\": \"it will have\",\"it's\": \"it is\", \"let's\": \"let us\", \"ma'am\": \"madam\",\n",
    "                           \"mayn't\": \"may not\", \"might've\": \"might have\",\"mightn't\": \"might not\",\"mightn't've\": \"might not have\", \"must've\": \"must have\",\n",
    "                           \"mustn't\": \"must not\", \"mustn't've\": \"must not have\", \"needn't\": \"need not\", \"needn't've\": \"need not have\",\"o'clock\": \"of the clock\",\n",
    "                           \"oughtn't\": \"ought not\", \"oughtn't've\": \"ought not have\", \"shan't\": \"shall not\", \"sha'n't\": \"shall not\", \"shan't've\": \"shall not have\",\n",
    "                           \"she'd\": \"she would\", \"she'd've\": \"she would have\", \"she'll\": \"she will\", \"she'll've\": \"she will have\", \"she's\": \"she is\",\n",
    "                           \"should've\": \"should have\", \"shouldn't\": \"should not\", \"shouldn't've\": \"should not have\", \"so've\": \"so have\",\"so's\": \"so as\",\n",
    "                           \"this's\": \"this is\",\"that'd\": \"that would\", \"that'd've\": \"that would have\", \"that's\": \"that is\", \"there'd\": \"there would\",\n",
    "                           \"there'd've\": \"there would have\", \"there's\": \"there is\", \"here's\": \"here is\",\"they'd\": \"they would\", \"they'd've\": \"they would have\",\n",
    "                           \"they'll\": \"they will\", \"they'll've\": \"they will have\", \"they're\": \"they are\", \"they've\": \"they have\", \"to've\": \"to have\",\n",
    "                           \"wasn't\": \"was not\", \"we'd\": \"we would\", \"we'd've\": \"we would have\", \"we'll\": \"we will\", \"we'll've\": \"we will have\", \"we're\": \"we are\",\n",
    "                           \"we've\": \"we have\", \"weren't\": \"were not\", \"what'll\": \"what will\", \"what'll've\": \"what will have\", \"what're\": \"what are\",\n",
    "                           \"what's\": \"what is\", \"what've\": \"what have\", \"when's\": \"when is\", \"when've\": \"when have\", \"where'd\": \"where did\", \"where's\": \"where is\",\n",
    "                           \"where've\": \"where have\", \"who'll\": \"who will\", \"who'll've\": \"who will have\", \"who's\": \"who is\", \"who've\": \"who have\",\n",
    "                           \"why's\": \"why is\", \"why've\": \"why have\", \"will've\": \"will have\", \"won't\": \"will not\", \"won't've\": \"will not have\",\n",
    "                           \"would've\": \"would have\", \"wouldn't\": \"would not\", \"wouldn't've\": \"would not have\", \"y'all\": \"you all\",\n",
    "                           \"y'all'd\": \"you all would\",\"y'all'd've\": \"you all would have\",\"y'all're\": \"you all are\",\"y'all've\": \"you all have\",\n",
    "                           \"you'd\": \"you would\", \"you'd've\": \"you would have\", \"you'll\": \"you will\", \"you'll've\": \"you will have\",\n",
    "                           \"you're\": \"you are\", \"you've\": \"you have\"}\n",
    "\n",
    "print(\"정규화 사전의 수: \", len(contractions))"
   ]
  },
  {
   "cell_type": "code",
   "execution_count": 10,
   "id": "7020a647",
   "metadata": {},
   "outputs": [
    {
     "name": "stdout",
     "output_type": "stream",
     "text": [
      "불용어 개수 : 179\n",
      "['i', 'me', 'my', 'myself', 'we', 'our', 'ours', 'ourselves', 'you', \"you're\", \"you've\", \"you'll\", \"you'd\", 'your', 'yours', 'yourself', 'yourselves', 'he', 'him', 'his', 'himself', 'she', \"she's\", 'her', 'hers', 'herself', 'it', \"it's\", 'its', 'itself', 'they', 'them', 'their', 'theirs', 'themselves', 'what', 'which', 'who', 'whom', 'this', 'that', \"that'll\", 'these', 'those', 'am', 'is', 'are', 'was', 'were', 'be', 'been', 'being', 'have', 'has', 'had', 'having', 'do', 'does', 'did', 'doing', 'a', 'an', 'the', 'and', 'but', 'if', 'or', 'because', 'as', 'until', 'while', 'of', 'at', 'by', 'for', 'with', 'about', 'against', 'between', 'into', 'through', 'during', 'before', 'after', 'above', 'below', 'to', 'from', 'up', 'down', 'in', 'out', 'on', 'off', 'over', 'under', 'again', 'further', 'then', 'once', 'here', 'there', 'when', 'where', 'why', 'how', 'all', 'any', 'both', 'each', 'few', 'more', 'most', 'other', 'some', 'such', 'no', 'nor', 'not', 'only', 'own', 'same', 'so', 'than', 'too', 'very', 's', 't', 'can', 'will', 'just', 'don', \"don't\", 'should', \"should've\", 'now', 'd', 'll', 'm', 'o', 're', 've', 'y', 'ain', 'aren', \"aren't\", 'couldn', \"couldn't\", 'didn', \"didn't\", 'doesn', \"doesn't\", 'hadn', \"hadn't\", 'hasn', \"hasn't\", 'haven', \"haven't\", 'isn', \"isn't\", 'ma', 'mightn', \"mightn't\", 'mustn', \"mustn't\", 'needn', \"needn't\", 'shan', \"shan't\", 'shouldn', \"shouldn't\", 'wasn', \"wasn't\", 'weren', \"weren't\", 'won', \"won't\", 'wouldn', \"wouldn't\"]\n"
     ]
    }
   ],
   "source": [
    "print('불용어 개수 :', len(stopwords.words('english') ))\n",
    "print(stopwords.words('english'))"
   ]
  },
  {
   "cell_type": "code",
   "execution_count": 11,
   "id": "8a863c64",
   "metadata": {},
   "outputs": [],
   "source": [
    "# 데이터 전처리 함수\n",
    "def preprocess_sentence(sentence, remove_stopwords=True):\n",
    "    sentence = sentence.lower() # 텍스트 소문자화\n",
    "    sentence = BeautifulSoup(sentence, \"lxml\").text # <br />, <a href = ...> 등의 html 태그 제거\n",
    "    sentence = re.sub(r'\\([^)]*\\)', '', sentence) # 괄호로 닫힌 문자열 (...) 제거 Ex) my husband (and myself!) for => my husband for\n",
    "    sentence = re.sub('\"','', sentence) # 쌍따옴표 \" 제거\n",
    "    sentence = ' '.join([contractions[t] if t in contractions else t for t in sentence.split(\" \")]) # 약어 정규화\n",
    "    sentence = re.sub(r\"'s\\b\",\"\", sentence) # 소유격 제거. Ex) roland's -> roland\n",
    "    sentence = re.sub(\"[^a-zA-Z]\", \" \", sentence) # 영어 외 문자(숫자, 특수문자 등) 공백으로 변환\n",
    "    sentence = re.sub('[m]{2,}', 'mm', sentence) # m이 3개 이상이면 2개로 변경. Ex) ummmmmmm yeah -> umm yeah\n",
    "\n",
    "    # 불용어 제거 (Text)\n",
    "    if remove_stopwords:\n",
    "        tokens = ' '.join(word for word in sentence.split() if not word in stopwords.words('english') if len(word) > 1)\n",
    "    # 불용어 미제거 (Summary)\n",
    "    else:\n",
    "        tokens = ' '.join(word for word in sentence.split() if len(word) > 1)\n",
    "    return tokens"
   ]
  },
  {
   "cell_type": "code",
   "execution_count": 12,
   "id": "5a35c0a5",
   "metadata": {},
   "outputs": [
    {
     "name": "stdout",
     "output_type": "stream",
     "text": [
      "Text 전처리 후 결과:  ['saurav kant alumnus upgrad iiit pg program machine learning artificial intelligence sr systems engineer infosys almost years work experience program upgrad degree career support helped transition data scientist tech mahindra salary hike upgrad online power learning powered lakh careers', 'kunal shah credit card bill payment platform cred gave users chance win free food swiggy one year pranav kaushik delhi techie bagged reward spending cred coins users get one cred coin per rupee bill paid used avail rewards brands like ixigo bookmyshow ubereats cult fit', 'new zealand defeated india wickets fourth odi hamilton thursday win first match five match odi series india lost international match rohit sharma captaincy consecutive victories dating back march match witnessed india getting seventh lowest total odi cricket history', 'aegon life iterm insurance plan customers enjoy tax benefits premiums paid save taxes plan provides life cover age years also customers options insure critical illnesses disability accidental death benefit rider life cover age years', 'speaking sexual harassment allegations rajkumar hirani sonam kapoor said known hirani many years true metoo movement get derailed metoo movement always believe woman case need reserve judgment added hirani accused assistant worked sanju']\n"
     ]
    }
   ],
   "source": [
    "# 전체 Text 데이터에 대한 전처리 : 10분 이상 시간이 걸릴 수 있습니다.\n",
    "clean_text = []\n",
    "\n",
    "for sentence in data['text']:\n",
    "    cleaned_sentence = preprocess_sentence(sentence, remove_stopwords=True)\n",
    "    clean_text.append(cleaned_sentence)\n",
    "\n",
    "# 전처리 후 출력\n",
    "print(\"Text 전처리 후 결과: \", clean_text[:5])"
   ]
  },
  {
   "cell_type": "code",
   "execution_count": 14,
   "id": "baf09888",
   "metadata": {},
   "outputs": [
    {
     "name": "stdout",
     "output_type": "stream",
     "text": [
      "Summary 전처리 후 결과:  ['upgrad learner switches to career in ml al with salary hike', 'delhi techie wins free food from swiggy for one year on cred', 'new zealand end rohit sharma led india match winning streak', 'aegon life iterm insurance plan helps customers save tax', 'have known hirani for yrs what if metoo claims are not true sonam']\n"
     ]
    }
   ],
   "source": [
    "# 전체 Summary 데이터에 대한 전처리 : 5분 이상 시간이 걸릴 수 있습니다.\n",
    "clean_headline = []\n",
    "\n",
    "\n",
    "for sentence in data['headlines']:\n",
    "    cleaned_sentence_1 = preprocess_sentence(sentence, remove_stopwords=False)\n",
    "    clean_headline.append(cleaned_sentence_1)\n",
    "\n",
    "print(\"Summary 전처리 후 결과: \", clean_headline[:5])"
   ]
  },
  {
   "cell_type": "code",
   "execution_count": 15,
   "id": "22d8aba8",
   "metadata": {},
   "outputs": [],
   "source": [
    "data['text'] = clean_text\n",
    "data['headlines'] = clean_headline\n",
    "\n",
    "# 빈 값을 Null 값으로 변환\n",
    "data.replace('', np.nan, inplace=True)"
   ]
  },
  {
   "cell_type": "code",
   "execution_count": 16,
   "id": "bc086b8e",
   "metadata": {},
   "outputs": [
    {
     "data": {
      "text/plain": [
       "headlines    0\n",
       "text         0\n",
       "dtype: int64"
      ]
     },
     "execution_count": 16,
     "metadata": {},
     "output_type": "execute_result"
    }
   ],
   "source": [
    "data.isnull().sum()"
   ]
  },
  {
   "cell_type": "code",
   "execution_count": 17,
   "id": "64bc0ffd",
   "metadata": {},
   "outputs": [
    {
     "name": "stdout",
     "output_type": "stream",
     "text": [
      "텍스트의 최소 길이 : 1\n",
      "텍스트의 최대 길이 : 60\n",
      "텍스트의 평균 길이 : 35.09968483123221\n",
      "헤드라인의 최소 길이 : 1\n",
      "헤드라인의 최대 길이 : 16\n",
      "헤드라인의 평균 길이 : 9.299532330215534\n"
     ]
    },
    {
     "data": {
      "image/png": "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\n",
      "text/plain": [
       "<Figure size 432x288 with 2 Axes>"
      ]
     },
     "metadata": {
      "needs_background": "light"
     },
     "output_type": "display_data"
    },
    {
     "data": {
      "image/png": "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\n",
      "text/plain": [
       "<Figure size 432x288 with 1 Axes>"
      ]
     },
     "metadata": {
      "needs_background": "light"
     },
     "output_type": "display_data"
    },
    {
     "data": {
      "image/png": "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\n",
      "text/plain": [
       "<Figure size 432x288 with 1 Axes>"
      ]
     },
     "metadata": {
      "needs_background": "light"
     },
     "output_type": "display_data"
    }
   ],
   "source": [
    "# 길이 분포 출력\n",
    "import matplotlib.pyplot as plt\n",
    "\n",
    "text_len = [len(s.split()) for s in data['text']]\n",
    "headline_len = [len(s.split()) for s in data['headlines']]\n",
    "\n",
    "print('텍스트의 최소 길이 : {}'.format(np.min(text_len)))\n",
    "print('텍스트의 최대 길이 : {}'.format(np.max(text_len)))\n",
    "print('텍스트의 평균 길이 : {}'.format(np.mean(text_len)))\n",
    "print('헤드라인의 최소 길이 : {}'.format(np.min(headline_len)))\n",
    "print('헤드라인의 최대 길이 : {}'.format(np.max(headline_len)))\n",
    "print('헤드라인의 평균 길이 : {}'.format(np.mean(headline_len)))\n",
    "\n",
    "plt.subplot(1,2,1)\n",
    "plt.boxplot(text_len)\n",
    "plt.title('text')\n",
    "plt.subplot(1,2,2)\n",
    "plt.boxplot(headline_len)\n",
    "plt.title('headlines')\n",
    "plt.tight_layout()\n",
    "plt.show()\n",
    "\n",
    "plt.title('text')\n",
    "plt.hist(text_len, bins = 40)\n",
    "plt.xlabel('length of samples')\n",
    "plt.ylabel('number of samples')\n",
    "plt.show()\n",
    "\n",
    "plt.title('headlines')\n",
    "plt.hist(headline_len, bins = 40)\n",
    "plt.xlabel('length of samples')\n",
    "plt.ylabel('number of samples')\n",
    "plt.show()"
   ]
  },
  {
   "cell_type": "code",
   "execution_count": 18,
   "id": "2ebee5eb",
   "metadata": {},
   "outputs": [],
   "source": [
    "text_max_len = 39\n",
    "headline_max_len = 11"
   ]
  },
  {
   "cell_type": "code",
   "execution_count": 19,
   "id": "40090b21",
   "metadata": {},
   "outputs": [],
   "source": [
    "def below_threshold_len(max_len, nested_list):\n",
    "  cnt = 0\n",
    "  for s in nested_list:\n",
    "    if(len(s.split()) <= max_len):\n",
    "        cnt = cnt + 1\n",
    "  print('전체 샘플 중 길이가 %s 이하인 샘플의 비율: %s'%(max_len, (cnt / len(nested_list))))"
   ]
  },
  {
   "cell_type": "code",
   "execution_count": 20,
   "id": "1092f69b",
   "metadata": {},
   "outputs": [
    {
     "name": "stdout",
     "output_type": "stream",
     "text": [
      "전체 샘플 중 길이가 39 이하인 샘플의 비율: 0.8782126880845872\n",
      "전체 샘플 중 길이가 11 이하인 샘플의 비율: 0.9449877999186661\n"
     ]
    }
   ],
   "source": [
    "below_threshold_len(text_max_len, data['text'])\n",
    "below_threshold_len(headline_max_len,  data['headlines'])"
   ]
  },
  {
   "cell_type": "code",
   "execution_count": 21,
   "id": "61d942e9",
   "metadata": {},
   "outputs": [
    {
     "name": "stdout",
     "output_type": "stream",
     "text": [
      "전체 샘플수 : 81569\n"
     ]
    }
   ],
   "source": [
    "data = data[data['text'].apply(lambda x: len(x.split())) <= text_max_len]\n",
    "data = data[data['headlines'].apply(lambda x: len(x.split())) <= headline_max_len]\n",
    "\n",
    "print('전체 샘플수 :', (len(data)))"
   ]
  },
  {
   "cell_type": "code",
   "execution_count": 22,
   "id": "284b70e5",
   "metadata": {},
   "outputs": [
    {
     "data": {
      "text/html": [
       "<div>\n",
       "<style scoped>\n",
       "    .dataframe tbody tr th:only-of-type {\n",
       "        vertical-align: middle;\n",
       "    }\n",
       "\n",
       "    .dataframe tbody tr th {\n",
       "        vertical-align: top;\n",
       "    }\n",
       "\n",
       "    .dataframe thead th {\n",
       "        text-align: right;\n",
       "    }\n",
       "</style>\n",
       "<table border=\"1\" class=\"dataframe\">\n",
       "  <thead>\n",
       "    <tr style=\"text-align: right;\">\n",
       "      <th></th>\n",
       "      <th>headlines</th>\n",
       "      <th>text</th>\n",
       "      <th>decoder_input</th>\n",
       "      <th>decoder_target</th>\n",
       "    </tr>\n",
       "  </thead>\n",
       "  <tbody>\n",
       "    <tr>\n",
       "      <th>0</th>\n",
       "      <td>upgrad learner switches to career in ml al wit...</td>\n",
       "      <td>saurav kant alumnus upgrad iiit pg program mac...</td>\n",
       "      <td>sostoken upgrad learner switches to career in ...</td>\n",
       "      <td>upgrad learner switches to career in ml al wit...</td>\n",
       "    </tr>\n",
       "    <tr>\n",
       "      <th>2</th>\n",
       "      <td>new zealand end rohit sharma led india match w...</td>\n",
       "      <td>new zealand defeated india wickets fourth odi ...</td>\n",
       "      <td>sostoken new zealand end rohit sharma led indi...</td>\n",
       "      <td>new zealand end rohit sharma led india match w...</td>\n",
       "    </tr>\n",
       "    <tr>\n",
       "      <th>3</th>\n",
       "      <td>aegon life iterm insurance plan helps customer...</td>\n",
       "      <td>aegon life iterm insurance plan customers enjo...</td>\n",
       "      <td>sostoken aegon life iterm insurance plan helps...</td>\n",
       "      <td>aegon life iterm insurance plan helps customer...</td>\n",
       "    </tr>\n",
       "    <tr>\n",
       "      <th>5</th>\n",
       "      <td>rahat fateh ali khan denies getting notice for...</td>\n",
       "      <td>pakistani singer rahat fateh ali khan denied r...</td>\n",
       "      <td>sostoken rahat fateh ali khan denies getting n...</td>\n",
       "      <td>rahat fateh ali khan denies getting notice for...</td>\n",
       "    </tr>\n",
       "    <tr>\n",
       "      <th>7</th>\n",
       "      <td>govt directs alok verma to join work day befor...</td>\n",
       "      <td>weeks ex cbi director alok verma told departme...</td>\n",
       "      <td>sostoken govt directs alok verma to join work ...</td>\n",
       "      <td>govt directs alok verma to join work day befor...</td>\n",
       "    </tr>\n",
       "  </tbody>\n",
       "</table>\n",
       "</div>"
      ],
      "text/plain": [
       "                                           headlines  \\\n",
       "0  upgrad learner switches to career in ml al wit...   \n",
       "2  new zealand end rohit sharma led india match w...   \n",
       "3  aegon life iterm insurance plan helps customer...   \n",
       "5  rahat fateh ali khan denies getting notice for...   \n",
       "7  govt directs alok verma to join work day befor...   \n",
       "\n",
       "                                                text  \\\n",
       "0  saurav kant alumnus upgrad iiit pg program mac...   \n",
       "2  new zealand defeated india wickets fourth odi ...   \n",
       "3  aegon life iterm insurance plan customers enjo...   \n",
       "5  pakistani singer rahat fateh ali khan denied r...   \n",
       "7  weeks ex cbi director alok verma told departme...   \n",
       "\n",
       "                                       decoder_input  \\\n",
       "0  sostoken upgrad learner switches to career in ...   \n",
       "2  sostoken new zealand end rohit sharma led indi...   \n",
       "3  sostoken aegon life iterm insurance plan helps...   \n",
       "5  sostoken rahat fateh ali khan denies getting n...   \n",
       "7  sostoken govt directs alok verma to join work ...   \n",
       "\n",
       "                                      decoder_target  \n",
       "0  upgrad learner switches to career in ml al wit...  \n",
       "2  new zealand end rohit sharma led india match w...  \n",
       "3  aegon life iterm insurance plan helps customer...  \n",
       "5  rahat fateh ali khan denies getting notice for...  \n",
       "7  govt directs alok verma to join work day befor...  "
      ]
     },
     "execution_count": 22,
     "metadata": {},
     "output_type": "execute_result"
    }
   ],
   "source": [
    "data['decoder_input'] = data['headlines'].apply(lambda x : 'sostoken '+ x)\n",
    "data['decoder_target'] = data['headlines'].apply(lambda x : x + ' eostoken')\n",
    "data.head()"
   ]
  },
  {
   "cell_type": "code",
   "execution_count": 23,
   "id": "ca57c36d",
   "metadata": {},
   "outputs": [],
   "source": [
    "encoder_input = np.array(data['text']) # 인코더의 입력\n",
    "decoder_input = np.array(data['decoder_input']) # 디코더의 입력\n",
    "decoder_target = np.array(data['decoder_target']) # 디코더의 레이블"
   ]
  },
  {
   "cell_type": "code",
   "execution_count": 24,
   "id": "7387ce59",
   "metadata": {},
   "outputs": [
    {
     "name": "stdout",
     "output_type": "stream",
     "text": [
      "[23035 69655 55826 ... 76300 42266 18442]\n"
     ]
    }
   ],
   "source": [
    "indices = np.arange(encoder_input.shape[0])\n",
    "np.random.shuffle(indices)\n",
    "print(indices)"
   ]
  },
  {
   "cell_type": "code",
   "execution_count": 25,
   "id": "559fa58e",
   "metadata": {},
   "outputs": [],
   "source": [
    "encoder_input = encoder_input[indices]\n",
    "decoder_input = decoder_input[indices]\n",
    "decoder_target = decoder_target[indices]"
   ]
  },
  {
   "cell_type": "code",
   "execution_count": 26,
   "id": "47d5b2e0",
   "metadata": {},
   "outputs": [
    {
     "name": "stdout",
     "output_type": "stream",
     "text": [
      "테스트 데이터의 수 : 16313\n"
     ]
    }
   ],
   "source": [
    "n_of_val = int(len(encoder_input)*0.2)\n",
    "print('테스트 데이터의 수 :', n_of_val)"
   ]
  },
  {
   "cell_type": "code",
   "execution_count": 27,
   "id": "1ad86246",
   "metadata": {},
   "outputs": [
    {
     "name": "stdout",
     "output_type": "stream",
     "text": [
      "훈련 데이터의 개수 : 65256\n",
      "훈련 레이블의 개수 : 65256\n",
      "테스트 데이터의 개수 : 16313\n",
      "테스트 레이블의 개수 : 16313\n"
     ]
    }
   ],
   "source": [
    "encoder_input_train = encoder_input[:-n_of_val]\n",
    "decoder_input_train = decoder_input[:-n_of_val]\n",
    "decoder_target_train = decoder_target[:-n_of_val]\n",
    "\n",
    "encoder_input_test = encoder_input[-n_of_val:]\n",
    "decoder_input_test = decoder_input[-n_of_val:]\n",
    "decoder_target_test = decoder_target[-n_of_val:]\n",
    "\n",
    "print('훈련 데이터의 개수 :', len(encoder_input_train))\n",
    "print('훈련 레이블의 개수 :', len(decoder_input_train))\n",
    "print('테스트 데이터의 개수 :', len(encoder_input_test))\n",
    "print('테스트 레이블의 개수 :', len(decoder_input_test))"
   ]
  },
  {
   "cell_type": "code",
   "execution_count": 28,
   "id": "8fc8f1a4",
   "metadata": {},
   "outputs": [],
   "source": [
    "src_tokenizer = Tokenizer() # 토크나이저 정의\n",
    "src_tokenizer.fit_on_texts(encoder_input_train) # 입력된 데이터로부터 단어 집합 생성"
   ]
  },
  {
   "cell_type": "code",
   "execution_count": 29,
   "id": "d9d7046a",
   "metadata": {},
   "outputs": [
    {
     "name": "stdout",
     "output_type": "stream",
     "text": [
      "단어 집합(vocabulary)의 크기 : 62905\n",
      "등장 빈도가 6번 이하인 희귀 단어의 수: 42984\n",
      "단어 집합에서 희귀 단어를 제외시킬 경우의 단어 집합의 크기 19921\n",
      "단어 집합에서 희귀 단어의 비율: 68.33161115968524\n",
      "전체 등장 빈도에서 희귀 단어 등장 빈도 비율: 3.9108751464839377\n"
     ]
    }
   ],
   "source": [
    "threshold = 7\n",
    "total_cnt = len(src_tokenizer.word_index) # 단어의 수\n",
    "rare_cnt = 0 # 등장 빈도수가 threshold보다 작은 단어의 개수를 카운트\n",
    "total_freq = 0 # 훈련 데이터의 전체 단어 빈도수 총 합\n",
    "rare_freq = 0 # 등장 빈도수가 threshold보다 작은 단어의 등장 빈도수의 총 합\n",
    "\n",
    "# 단어와 빈도수의 쌍(pair)을 key와 value로 받는다.\n",
    "for key, value in src_tokenizer.word_counts.items():\n",
    "    total_freq = total_freq + value\n",
    "\n",
    "    # 단어의 등장 빈도수가 threshold보다 작으면\n",
    "    if(value < threshold):\n",
    "        rare_cnt = rare_cnt + 1\n",
    "        rare_freq = rare_freq + value\n",
    "\n",
    "print('단어 집합(vocabulary)의 크기 :', total_cnt)\n",
    "print('등장 빈도가 %s번 이하인 희귀 단어의 수: %s'%(threshold - 1, rare_cnt))\n",
    "print('단어 집합에서 희귀 단어를 제외시킬 경우의 단어 집합의 크기 %s'%(total_cnt - rare_cnt))\n",
    "print(\"단어 집합에서 희귀 단어의 비율:\", (rare_cnt / total_cnt)*100)\n",
    "print(\"전체 등장 빈도에서 희귀 단어 등장 빈도 비율:\", (rare_freq / total_freq)*100)"
   ]
  },
  {
   "cell_type": "code",
   "execution_count": 30,
   "id": "2061cd9b",
   "metadata": {},
   "outputs": [],
   "source": [
    "src_vocab = 19000\n",
    "src_tokenizer = Tokenizer(num_words=src_vocab) # 단어 집합의 크기를 8,000으로 제한\n",
    "src_tokenizer.fit_on_texts(encoder_input_train) # 단어 집합 재생성"
   ]
  },
  {
   "cell_type": "code",
   "execution_count": 31,
   "id": "59735976",
   "metadata": {},
   "outputs": [
    {
     "name": "stdout",
     "output_type": "stream",
     "text": [
      "[[266, 52, 2089, 5, 5174, 1102, 1704, 259, 598, 5426, 8673, 855, 894, 70, 750, 98, 2089, 74, 7001, 1063, 500, 52, 266, 266, 502, 2089, 54, 71, 767, 71, 1074, 2702, 13176, 1353], [94, 28, 8, 343, 2382, 576, 626, 1406, 648, 9465, 14244, 502, 149, 1524, 491, 510, 551, 1, 424, 1587, 70, 102, 551, 3125, 302, 69, 16460, 626, 1406, 379], [3829, 1267, 133, 5, 1329, 2893, 33, 12160, 1540, 133, 365, 163, 55, 34, 123, 12160, 215, 338, 52, 4170, 2620, 4202, 2175, 16461, 1019, 284, 2796, 33, 25, 1876, 1267, 1]]\n"
     ]
    }
   ],
   "source": [
    "# 텍스트 시퀀스를 정수 시퀀스로 변환\n",
    "encoder_input_train = src_tokenizer.texts_to_sequences(encoder_input_train)\n",
    "encoder_input_test = src_tokenizer.texts_to_sequences(encoder_input_test)\n",
    "\n",
    "# 잘 진행되었는지 샘플 출력\n",
    "print(encoder_input_train[:3])"
   ]
  },
  {
   "cell_type": "code",
   "execution_count": 32,
   "id": "5b07b619",
   "metadata": {},
   "outputs": [],
   "source": [
    "tar_tokenizer = Tokenizer()\n",
    "tar_tokenizer.fit_on_texts(decoder_input_train)"
   ]
  },
  {
   "cell_type": "code",
   "execution_count": 33,
   "id": "ad37b66a",
   "metadata": {},
   "outputs": [
    {
     "name": "stdout",
     "output_type": "stream",
     "text": [
      "단어 집합(vocabulary)의 크기 : 27928\n",
      "등장 빈도가 6번 이하인 희귀 단어의 수: 19315\n",
      "단어 집합에서 희귀 단어를 제외시킬 경우의 단어 집합의 크기 8613\n",
      "단어 집합에서 희귀 단어의 비율: 69.15998281294759\n",
      "전체 등장 빈도에서 희귀 단어 등장 빈도 비율: 6.118310132003911\n"
     ]
    }
   ],
   "source": [
    "threshold = 7\n",
    "total_cnt = len(tar_tokenizer.word_index) # 단어의 수\n",
    "rare_cnt = 0 # 등장 빈도수가 threshold보다 작은 단어의 개수를 카운트\n",
    "total_freq = 0 # 훈련 데이터의 전체 단어 빈도수 총 합\n",
    "rare_freq = 0 # 등장 빈도수가 threshold보다 작은 단어의 등장 빈도수의 총 합\n",
    "\n",
    "# 단어와 빈도수의 쌍(pair)을 key와 value로 받는다.\n",
    "for key, value in tar_tokenizer.word_counts.items():\n",
    "    total_freq = total_freq + value\n",
    "\n",
    "    # 단어의 등장 빈도수가 threshold보다 작으면\n",
    "    if(value < threshold):\n",
    "        rare_cnt = rare_cnt + 1\n",
    "        rare_freq = rare_freq + value\n",
    "\n",
    "print('단어 집합(vocabulary)의 크기 :', total_cnt)\n",
    "print('등장 빈도가 %s번 이하인 희귀 단어의 수: %s'%(threshold - 1, rare_cnt))\n",
    "print('단어 집합에서 희귀 단어를 제외시킬 경우의 단어 집합의 크기 %s'%(total_cnt - rare_cnt))\n",
    "print(\"단어 집합에서 희귀 단어의 비율:\", (rare_cnt / total_cnt)*100)\n",
    "print(\"전체 등장 빈도에서 희귀 단어 등장 빈도 비율:\", (rare_freq / total_freq)*100)"
   ]
  },
  {
   "cell_type": "code",
   "execution_count": 34,
   "id": "1f97bad9",
   "metadata": {},
   "outputs": [
    {
     "name": "stdout",
     "output_type": "stream",
     "text": [
      "input\n",
      "input  [[1, 129, 171, 177, 13, 1121, 14, 1776, 6447], [1, 815, 1577, 3, 1739, 726, 735, 8, 291, 169, 21], [1, 7925, 74, 2009, 10, 196, 1662, 89, 2116, 177], [1, 344, 1968, 29, 4247, 120, 47, 10, 7926, 406], [1, 72, 108, 1206, 1248, 4, 639, 179]]\n",
      "target\n",
      "decoder  [[129, 171, 177, 13, 1121, 14, 1776, 6447, 2], [815, 1577, 3, 1739, 726, 735, 8, 291, 169, 21, 2], [7925, 74, 2009, 10, 196, 1662, 89, 2116, 177, 2], [344, 1968, 29, 4247, 120, 47, 10, 7926, 406, 2], [72, 108, 1206, 1248, 4, 639, 179, 2]]\n"
     ]
    }
   ],
   "source": [
    "tar_vocab = 8000\n",
    "tar_tokenizer = Tokenizer(num_words=tar_vocab)\n",
    "tar_tokenizer.fit_on_texts(decoder_input_train)\n",
    "tar_tokenizer.fit_on_texts(decoder_target_train)\n",
    "\n",
    "# 텍스트 시퀀스를 정수 시퀀스로 변환\n",
    "decoder_input_train = tar_tokenizer.texts_to_sequences(decoder_input_train)\n",
    "decoder_target_train = tar_tokenizer.texts_to_sequences(decoder_target_train)\n",
    "decoder_input_test = tar_tokenizer.texts_to_sequences(decoder_input_test)\n",
    "decoder_target_test = tar_tokenizer.texts_to_sequences(decoder_target_test)\n",
    "\n",
    "# 잘 변환되었는지 확인\n",
    "print('input')\n",
    "print('input ',decoder_input_train[:5])\n",
    "print('target')\n",
    "print('decoder ',decoder_target_train[:5])"
   ]
  },
  {
   "cell_type": "code",
   "execution_count": 35,
   "id": "0eda3d48",
   "metadata": {},
   "outputs": [
    {
     "name": "stdout",
     "output_type": "stream",
     "text": [
      "삭제할 훈련 데이터의 개수 : 1\n",
      "삭제할 테스트 데이터의 개수 : 0\n",
      "훈련 데이터의 개수 : 65255\n",
      "훈련 레이블의 개수 : 65255\n",
      "테스트 데이터의 개수 : 16313\n",
      "테스트 레이블의 개수 : 16313\n"
     ]
    }
   ],
   "source": [
    "drop_train = [index for index, sentence in enumerate(decoder_input_train) if len(sentence) == 1]\n",
    "drop_test = [index for index, sentence in enumerate(decoder_input_test) if len(sentence) == 1]\n",
    "\n",
    "print('삭제할 훈련 데이터의 개수 :', len(drop_train))\n",
    "print('삭제할 테스트 데이터의 개수 :', len(drop_test))\n",
    "\n",
    "encoder_input_train = [sentence for index, sentence in enumerate(encoder_input_train) if index not in drop_train]\n",
    "decoder_input_train = [sentence for index, sentence in enumerate(decoder_input_train) if index not in drop_train]\n",
    "decoder_target_train = [sentence for index, sentence in enumerate(decoder_target_train) if index not in drop_train]\n",
    "\n",
    "encoder_input_test = [sentence for index, sentence in enumerate(encoder_input_test) if index not in drop_test]\n",
    "decoder_input_test = [sentence for index, sentence in enumerate(decoder_input_test) if index not in drop_test]\n",
    "decoder_target_test = [sentence for index, sentence in enumerate(decoder_target_test) if index not in drop_test]\n",
    "\n",
    "print('훈련 데이터의 개수 :', len(encoder_input_train))\n",
    "print('훈련 레이블의 개수 :', len(decoder_input_train))\n",
    "print('테스트 데이터의 개수 :', len(encoder_input_test))\n",
    "print('테스트 레이블의 개수 :', len(decoder_input_test))"
   ]
  },
  {
   "cell_type": "code",
   "execution_count": 36,
   "id": "de8491aa",
   "metadata": {},
   "outputs": [],
   "source": [
    "encoder_input_train = pad_sequences(encoder_input_train, maxlen=text_max_len, padding='post')\n",
    "encoder_input_test = pad_sequences(encoder_input_test, maxlen=text_max_len, padding='post')\n",
    "decoder_input_train = pad_sequences(decoder_input_train, maxlen=headline_max_len, padding='post')\n",
    "decoder_target_train = pad_sequences(decoder_target_train, maxlen=headline_max_len, padding='post')\n",
    "decoder_input_test = pad_sequences(decoder_input_test, maxlen=headline_max_len, padding='post')\n",
    "decoder_target_test = pad_sequences(decoder_target_test, maxlen=headline_max_len, padding='post')"
   ]
  },
  {
   "cell_type": "code",
   "execution_count": 49,
   "id": "87488f84",
   "metadata": {},
   "outputs": [
    {
     "name": "stdout",
     "output_type": "stream",
     "text": [
      "Model: \"model_34\"\n",
      "__________________________________________________________________________________________________\n",
      "Layer (type)                    Output Shape         Param #     Connected to                     \n",
      "==================================================================================================\n",
      "input_65 (InputLayer)           [(None, None)]       0                                            \n",
      "__________________________________________________________________________________________________\n",
      "input_67 (InputLayer)           [(None, 1, 1, None)] 0                                            \n",
      "__________________________________________________________________________________________________\n",
      "input_66 (InputLayer)           [(None, None)]       0                                            \n",
      "__________________________________________________________________________________________________\n",
      "model_28 (Functional)           (None, 10000, 128)   5081088     input_65[0][0]                   \n",
      "                                                                 input_67[0][0]                   \n",
      "__________________________________________________________________________________________________\n",
      "input_68 (InputLayer)           [(None, 1, 1, None)] 0                                            \n",
      "__________________________________________________________________________________________________\n",
      "input_69 (InputLayer)           [(None, 1, 1, None)] 0                                            \n",
      "__________________________________________________________________________________________________\n",
      "model_33 (Functional)           (None, 10000, 128)   5786112     input_66[0][0]                   \n",
      "                                                                 model_28[0][0]                   \n",
      "                                                                 input_68[0][0]                   \n",
      "                                                                 input_69[0][0]                   \n",
      "__________________________________________________________________________________________________\n",
      "dense_52 (Dense)                (None, 10000, 8000)  1032000     model_33[0][0]                   \n",
      "==================================================================================================\n",
      "Total params: 11,899,200\n",
      "Trainable params: 11,887,936\n",
      "Non-trainable params: 11,264\n",
      "__________________________________________________________________________________________________\n"
     ]
    }
   ],
   "source": [
    "from tensorflow.keras.layers import Input, Dense, Embedding, MultiHeadAttention, LayerNormalization, Dropout, BatchNormalization\n",
    "from tensorflow.keras.models import Model\n",
    "import tensorflow as tf\n",
    "import numpy as np\n",
    "\n",
    "# 포지셔널 인코딩 (Positional Encoding) 함수\n",
    "def positional_encoding(position, d_model):\n",
    "    \"\"\"\n",
    "    각 단어의 위치 정보를 벡터에 추가하기 위해 포지셔널 인코딩을 계산합니다.\n",
    "    \"\"\"\n",
    "    angle_rads = get_angles(np.arange(position)[:, np.newaxis],\n",
    "                            np.arange(d_model)[np.newaxis, :],\n",
    "                            d_model)\n",
    "    angle_rads[:, 0::2] = np.sin(angle_rads[:, 0::2])\n",
    "    angle_rads[:, 1::2] = np.cos(angle_rads[:, 1::2])\n",
    "    pos_encoding = angle_rads[np.newaxis, ...]\n",
    "    return tf.cast(pos_encoding, dtype=tf.float32)\n",
    "\n",
    "def get_angles(pos, i, d_model):\n",
    "    \"\"\"\n",
    "    각 위치와 차원에 따라 각도를 계산합니다.\n",
    "    \"\"\"\n",
    "    angle_rates = 1 / np.power(10000, (2 * (i // 2)) / np.float32(d_model))\n",
    "    return pos * angle_rates\n",
    "\n",
    "def create_padding_mask(seq):\n",
    "    \"\"\"\n",
    "    입력 시퀀스에서 패딩 토큰을 마스킹합니다.\n",
    "    \"\"\"\n",
    "    seq = tf.cast(tf.math.equal(seq, 0), tf.float32)\n",
    "    return seq[:, tf.newaxis, tf.newaxis, :]\n",
    "\n",
    "def create_look_ahead_mask(size):\n",
    "    \"\"\"\n",
    "    디코더의 입력에서 다음 단어를 예측할 수 없게 만드는 마스크를 생성합니다.\n",
    "    \"\"\"\n",
    "    mask = 1 - tf.linalg.band_part(tf.ones((size, size)), -1, 0)\n",
    "    return mask\n",
    "\n",
    "def encoder_layer(d_model, num_heads, dff, rate=0.1):\n",
    "    \"\"\"\n",
    "    Transformer 인코더의 단일 레이어를 정의합니다.\n",
    "    \"\"\"\n",
    "    inputs = Input(shape=(None, d_model))\n",
    "    \n",
    "    # 멀티헤드 어텐션\n",
    "    attn_output = MultiHeadAttention(num_heads=num_heads, key_dim=d_model)(inputs, inputs)\n",
    "    attn_output = Dropout(rate)(attn_output)\n",
    "    \n",
    "    # 레이어 정규화 및 배치 정규화\n",
    "    out1 = LayerNormalization(epsilon=1e-6)(attn_output + inputs)\n",
    "    out1 = BatchNormalization()(out1)\n",
    "    \n",
    "    # 포지션-와이즈 피드포워드 네트워크\n",
    "    ffn_output = Dense(dff, activation='relu')(out1)\n",
    "    ffn_output = BatchNormalization()(ffn_output)\n",
    "    ffn_output = Dense(d_model)(ffn_output)\n",
    "    ffn_output = Dropout(rate)(ffn_output)\n",
    "    \n",
    "    # 레이어 정규화\n",
    "    outputs = LayerNormalization(epsilon=1e-6)(ffn_output + out1)\n",
    "    \n",
    "    return Model(inputs=inputs, outputs=outputs)\n",
    "\n",
    "def decoder_layer(d_model, num_heads, dff, rate=0.1):\n",
    "    \"\"\"\n",
    "    Transformer 디코더의 단일 레이어를 정의합니다.\n",
    "    \"\"\"\n",
    "    inputs = Input(shape=(None, d_model))\n",
    "    enc_outputs = Input(shape=(None, d_model))\n",
    "    look_ahead_mask = Input(shape=(1, None, None))\n",
    "    padding_mask = Input(shape=(1, 1, None))\n",
    "\n",
    "    # 첫 번째 멀티헤드 어텐션\n",
    "    attn1 = MultiHeadAttention(num_heads=num_heads, key_dim=d_model)(inputs, inputs, attention_mask=look_ahead_mask)\n",
    "    attn1 = Dropout(rate)(attn1)\n",
    "    out1 = LayerNormalization(epsilon=1e-6)(attn1 + inputs)\n",
    "    out1 = BatchNormalization()(out1)\n",
    "    \n",
    "    # 두 번째 멀티헤드 어텐션\n",
    "    attn2 = MultiHeadAttention(num_heads=num_heads, key_dim=d_model)(out1, enc_outputs, attention_mask=padding_mask)\n",
    "    attn2 = Dropout(rate)(attn2)\n",
    "    out2 = LayerNormalization(epsilon=1e-6)(attn2 + out1)\n",
    "    out2 = BatchNormalization()(out2)\n",
    "    \n",
    "    # 포지션-와이즈 피드포워드 네트워크\n",
    "    ffn_output = Dense(dff, activation='relu')(out2)\n",
    "    ffn_output = BatchNormalization()(ffn_output)\n",
    "    ffn_output = Dense(d_model)(ffn_output)\n",
    "    ffn_output = Dropout(rate)(ffn_output)\n",
    "    \n",
    "    # 레이어 정규화\n",
    "    outputs = LayerNormalization(epsilon=1e-6)(ffn_output + out2)\n",
    "    \n",
    "    return Model(inputs=[inputs, enc_outputs, look_ahead_mask, padding_mask], outputs=outputs)\n",
    "\n",
    "def encoder(vocab_size, num_layers, d_model, num_heads, dff, pe_input, rate=0.1):\n",
    "    \"\"\"\n",
    "    Transformer 인코더를 정의합니다.\n",
    "    \"\"\"\n",
    "    inputs = Input(shape=(None,))\n",
    "    mask = Input(shape=(1, 1, None))\n",
    "\n",
    "    # 임베딩 레이어\n",
    "    embeddings = Embedding(vocab_size, d_model)(inputs)\n",
    "    embeddings *= tf.math.sqrt(tf.cast(d_model, tf.float32))\n",
    "    embeddings += positional_encoding(pe_input, d_model)\n",
    "    x = Dropout(rate)(embeddings)\n",
    "\n",
    "    # 인코더 레이어를 여러 층 쌓기\n",
    "    for _ in range(num_layers):\n",
    "        x = encoder_layer(d_model, num_heads, dff, rate)(x)\n",
    "\n",
    "    return Model(inputs=[inputs, mask], outputs=x)\n",
    "\n",
    "def decoder(vocab_size, num_layers, d_model, num_heads, dff, pe_target, rate=0.1):\n",
    "    \"\"\"\n",
    "    Transformer 디코더를 정의합니다.\n",
    "    \"\"\"\n",
    "    inputs = Input(shape=(None,))\n",
    "    enc_outputs = Input(shape=(None, d_model))\n",
    "    look_ahead_mask = Input(shape=(1, 1, None))\n",
    "    padding_mask = Input(shape=(1, 1, None))\n",
    "\n",
    "    # 임베딩 레이어\n",
    "    embeddings = Embedding(vocab_size, d_model)(inputs)\n",
    "    embeddings *= tf.math.sqrt(tf.cast(d_model, tf.float32))\n",
    "    embeddings += positional_encoding(pe_target, d_model)\n",
    "    x = Dropout(rate)(embeddings)\n",
    "\n",
    "    # 디코더 레이어를 여러 층 쌓기\n",
    "    for _ in range(num_layers):\n",
    "        x = decoder_layer(d_model, num_heads, dff, rate)(\n",
    "            [x, enc_outputs, look_ahead_mask, padding_mask])\n",
    "\n",
    "    return Model(inputs=[inputs, enc_outputs, look_ahead_mask, padding_mask], outputs=x)\n",
    "\n",
    "def transformer(vocab_size_enc, vocab_size_dec, num_layers, d_model, num_heads, dff, pe_input, pe_target, rate=0.1):\n",
    "    \"\"\"\n",
    "    전체 Transformer 모델을 정의합니다.\n",
    "    \"\"\"\n",
    "    enc_inputs = Input(shape=(None,))\n",
    "    dec_inputs = Input(shape=(None,))\n",
    "    enc_padding_mask = Input(shape=(1, 1, None))\n",
    "    look_ahead_mask = Input(shape=(1, 1, None))\n",
    "    dec_padding_mask = Input(shape=(1, 1, None))\n",
    "\n",
    "    # 인코더의 출력 생성\n",
    "    enc_outputs = encoder(vocab_size_enc, num_layers, d_model, num_heads, dff, pe_input, rate)(\n",
    "        [enc_inputs, enc_padding_mask])\n",
    "\n",
    "    # 디코더의 출력 생성\n",
    "    dec_outputs = decoder(vocab_size_dec, num_layers, d_model, num_heads, dff, pe_target, rate)(\n",
    "        [dec_inputs, enc_outputs, look_ahead_mask, dec_padding_mask])\n",
    "\n",
    "    # 최종 출력층\n",
    "    outputs = Dense(vocab_size_dec, activation='softmax')(dec_outputs)\n",
    "\n",
    "    return Model(inputs=[enc_inputs, dec_inputs, enc_padding_mask, look_ahead_mask, dec_padding_mask], outputs=outputs)\n",
    "\n",
    "# 하이퍼파라미터 설정\n",
    "num_layers = 4           # 인코더와 디코더의 레이어 수\n",
    "d_model = 128            # 임베딩 벡터의 차원\n",
    "dff = 512                # 피드포워드 신경망의 은닉층 차원\n",
    "num_heads = 8            # 멀티헤드 어텐션의 헤드 수\n",
    "pe_input = 10000         # 인코더 입력의 포지셔널 인코딩 최대 길이\n",
    "pe_target = 10000        # 디코더 입력의 포지셔널 인코딩 최대 길이\n",
    "dropout_rate = 0.1       # 드롭아웃 비율\n",
    "\n",
    "# Transformer 모델 생성\n",
    "transformer_model = transformer(src_vocab, tar_vocab, num_layers, d_model, num_heads, dff, pe_input, pe_target, rate=dropout_rate)\n",
    "\n",
    "# 모델 요약 정보 출력\n",
    "transformer_model.summary()"
   ]
  },
  {
   "cell_type": "code",
   "execution_count": 50,
   "id": "4e42f28d",
   "metadata": {},
   "outputs": [],
   "source": [
    "# 모델을 컴파일합니다.\n",
    "from tensorflow.keras.optimizers import RMSprop\n",
    "transformer_model.compile(optimizer=RMSprop(learning_rate=0.001),  # RMSprop 옵티마이저를 사용합니다.\n",
    "              loss='sparse_categorical_crossentropy',  # 다중 클래스 분류를 위해 sparse_categorical_crossentropy 손실 함수를 사용합니다.\n",
    "              metrics=['accuracy'])  # 정확도를 평가 지표로 설정합니다."
   ]
  },
  {
   "cell_type": "code",
   "execution_count": 51,
   "id": "596e8af1",
   "metadata": {},
   "outputs": [
    {
     "name": "stdout",
     "output_type": "stream",
     "text": [
      "Epoch 1/100\n",
      "255/255 [==============================] - 51s 198ms/step - loss: 4.7399 - accuracy: 0.2938 - val_loss: 4.8062 - val_accuracy: 0.2963\n",
      "Epoch 2/100\n",
      "255/255 [==============================] - 50s 196ms/step - loss: 4.6982 - accuracy: 0.2961 - val_loss: 4.7794 - val_accuracy: 0.2986\n",
      "Epoch 3/100\n",
      "255/255 [==============================] - 50s 198ms/step - loss: 4.6578 - accuracy: 0.2982 - val_loss: 4.7568 - val_accuracy: 0.2995\n",
      "Epoch 4/100\n",
      "255/255 [==============================] - 50s 198ms/step - loss: 4.6179 - accuracy: 0.3003 - val_loss: 4.7225 - val_accuracy: 0.3016\n",
      "Epoch 5/100\n",
      "255/255 [==============================] - 50s 198ms/step - loss: 4.5781 - accuracy: 0.3029 - val_loss: 4.6953 - val_accuracy: 0.3035\n",
      "Epoch 6/100\n",
      "255/255 [==============================] - 50s 197ms/step - loss: 4.5396 - accuracy: 0.3048 - val_loss: 4.6693 - val_accuracy: 0.3051\n",
      "Epoch 7/100\n",
      "255/255 [==============================] - 50s 198ms/step - loss: 4.5025 - accuracy: 0.3070 - val_loss: 4.6456 - val_accuracy: 0.3070\n",
      "Epoch 8/100\n",
      "255/255 [==============================] - 50s 197ms/step - loss: 4.4674 - accuracy: 0.3096 - val_loss: 4.6225 - val_accuracy: 0.3081\n",
      "Epoch 9/100\n",
      "255/255 [==============================] - 50s 197ms/step - loss: 4.4331 - accuracy: 0.3116 - val_loss: 4.6031 - val_accuracy: 0.3099\n",
      "Epoch 10/100\n",
      "255/255 [==============================] - 50s 197ms/step - loss: 4.3997 - accuracy: 0.3135 - val_loss: 4.5818 - val_accuracy: 0.3110\n",
      "Epoch 11/100\n",
      "255/255 [==============================] - 51s 198ms/step - loss: 4.3661 - accuracy: 0.3153 - val_loss: 4.5623 - val_accuracy: 0.3130\n",
      "Epoch 12/100\n",
      "255/255 [==============================] - 51s 198ms/step - loss: 4.3337 - accuracy: 0.3177 - val_loss: 4.5423 - val_accuracy: 0.3144\n",
      "Epoch 13/100\n",
      "255/255 [==============================] - 50s 198ms/step - loss: 4.3014 - accuracy: 0.3196 - val_loss: 4.5227 - val_accuracy: 0.3160\n",
      "Epoch 14/100\n",
      "255/255 [==============================] - 50s 198ms/step - loss: 4.2695 - accuracy: 0.3220 - val_loss: 4.5034 - val_accuracy: 0.3174\n",
      "Epoch 15/100\n",
      "255/255 [==============================] - 50s 197ms/step - loss: 4.2377 - accuracy: 0.3239 - val_loss: 4.4859 - val_accuracy: 0.3187\n",
      "Epoch 16/100\n",
      "255/255 [==============================] - 50s 197ms/step - loss: 4.2073 - accuracy: 0.3258 - val_loss: 4.4707 - val_accuracy: 0.3202\n",
      "Epoch 17/100\n",
      "255/255 [==============================] - 50s 198ms/step - loss: 4.1772 - accuracy: 0.3284 - val_loss: 4.4542 - val_accuracy: 0.3211\n",
      "Epoch 18/100\n",
      "255/255 [==============================] - 50s 197ms/step - loss: 4.1477 - accuracy: 0.3302 - val_loss: 4.4350 - val_accuracy: 0.3230\n",
      "Epoch 19/100\n",
      "255/255 [==============================] - 50s 198ms/step - loss: 4.1183 - accuracy: 0.3325 - val_loss: 4.4233 - val_accuracy: 0.3236\n",
      "Epoch 20/100\n",
      "255/255 [==============================] - 50s 198ms/step - loss: 4.0884 - accuracy: 0.3347 - val_loss: 4.4042 - val_accuracy: 0.3258\n",
      "Epoch 21/100\n",
      "255/255 [==============================] - 51s 198ms/step - loss: 4.0602 - accuracy: 0.3368 - val_loss: 4.3938 - val_accuracy: 0.3261\n",
      "Epoch 22/100\n",
      "255/255 [==============================] - 50s 198ms/step - loss: 4.0317 - accuracy: 0.3390 - val_loss: 4.3792 - val_accuracy: 0.3272\n",
      "Epoch 23/100\n",
      "255/255 [==============================] - 50s 197ms/step - loss: 4.0041 - accuracy: 0.3408 - val_loss: 4.3672 - val_accuracy: 0.3281\n",
      "Epoch 24/100\n",
      "255/255 [==============================] - 50s 198ms/step - loss: 3.9762 - accuracy: 0.3429 - val_loss: 4.3572 - val_accuracy: 0.3292\n",
      "Epoch 25/100\n",
      "255/255 [==============================] - 50s 198ms/step - loss: 3.9497 - accuracy: 0.3447 - val_loss: 4.3426 - val_accuracy: 0.3309\n",
      "Epoch 26/100\n",
      "255/255 [==============================] - 50s 198ms/step - loss: 3.9232 - accuracy: 0.3467 - val_loss: 4.3340 - val_accuracy: 0.3314\n",
      "Epoch 27/100\n",
      "255/255 [==============================] - 50s 198ms/step - loss: 3.8970 - accuracy: 0.3488 - val_loss: 4.3224 - val_accuracy: 0.3322\n",
      "Epoch 28/100\n",
      "255/255 [==============================] - 50s 198ms/step - loss: 3.8715 - accuracy: 0.3509 - val_loss: 4.3080 - val_accuracy: 0.3339\n",
      "Epoch 29/100\n",
      "255/255 [==============================] - 50s 198ms/step - loss: 3.8455 - accuracy: 0.3529 - val_loss: 4.3020 - val_accuracy: 0.3342\n",
      "Epoch 30/100\n",
      "255/255 [==============================] - 51s 199ms/step - loss: 3.8199 - accuracy: 0.3551 - val_loss: 4.2922 - val_accuracy: 0.3349\n",
      "Epoch 31/100\n",
      "255/255 [==============================] - 50s 198ms/step - loss: 3.7967 - accuracy: 0.3567 - val_loss: 4.2822 - val_accuracy: 0.3357\n",
      "Epoch 32/100\n",
      "255/255 [==============================] - 50s 198ms/step - loss: 3.7721 - accuracy: 0.3588 - val_loss: 4.2736 - val_accuracy: 0.3366\n",
      "Epoch 33/100\n",
      "255/255 [==============================] - 50s 197ms/step - loss: 3.7485 - accuracy: 0.3610 - val_loss: 4.2662 - val_accuracy: 0.3377\n",
      "Epoch 34/100\n",
      "255/255 [==============================] - 50s 197ms/step - loss: 3.7246 - accuracy: 0.3631 - val_loss: 4.2589 - val_accuracy: 0.3380\n",
      "Epoch 35/100\n",
      "255/255 [==============================] - 50s 198ms/step - loss: 3.6999 - accuracy: 0.3647 - val_loss: 4.2498 - val_accuracy: 0.3389\n",
      "Epoch 36/100\n",
      "255/255 [==============================] - 50s 197ms/step - loss: 3.6766 - accuracy: 0.3667 - val_loss: 4.2459 - val_accuracy: 0.3394\n",
      "Epoch 37/100\n",
      "255/255 [==============================] - 50s 197ms/step - loss: 3.6543 - accuracy: 0.3686 - val_loss: 4.2375 - val_accuracy: 0.3402\n",
      "Epoch 38/100\n",
      "255/255 [==============================] - 50s 197ms/step - loss: 3.6308 - accuracy: 0.3709 - val_loss: 4.2302 - val_accuracy: 0.3410\n",
      "Epoch 39/100\n",
      "255/255 [==============================] - 50s 197ms/step - loss: 3.6066 - accuracy: 0.3727 - val_loss: 4.2236 - val_accuracy: 0.3417\n",
      "Epoch 40/100\n",
      "255/255 [==============================] - 50s 197ms/step - loss: 3.5850 - accuracy: 0.3746 - val_loss: 4.2162 - val_accuracy: 0.3418\n",
      "Epoch 41/100\n",
      "255/255 [==============================] - 50s 197ms/step - loss: 3.5628 - accuracy: 0.3761 - val_loss: 4.2125 - val_accuracy: 0.3423\n",
      "Epoch 42/100\n",
      "255/255 [==============================] - 50s 198ms/step - loss: 3.5417 - accuracy: 0.3782 - val_loss: 4.2092 - val_accuracy: 0.3421\n",
      "Epoch 43/100\n",
      "255/255 [==============================] - 50s 198ms/step - loss: 3.5211 - accuracy: 0.3805 - val_loss: 4.2023 - val_accuracy: 0.3437\n",
      "Epoch 44/100\n",
      "255/255 [==============================] - 50s 198ms/step - loss: 3.4995 - accuracy: 0.3824 - val_loss: 4.1996 - val_accuracy: 0.3436\n",
      "Epoch 45/100\n",
      "255/255 [==============================] - 51s 198ms/step - loss: 3.4780 - accuracy: 0.3839 - val_loss: 4.1952 - val_accuracy: 0.3437\n",
      "Epoch 46/100\n",
      "255/255 [==============================] - 50s 198ms/step - loss: 3.4573 - accuracy: 0.3858 - val_loss: 4.1894 - val_accuracy: 0.3446\n",
      "Epoch 47/100\n",
      "255/255 [==============================] - 50s 197ms/step - loss: 3.4362 - accuracy: 0.3875 - val_loss: 4.1844 - val_accuracy: 0.3450\n",
      "Epoch 48/100\n",
      "255/255 [==============================] - 51s 198ms/step - loss: 3.4166 - accuracy: 0.3898 - val_loss: 4.1828 - val_accuracy: 0.3453\n",
      "Epoch 49/100\n",
      "255/255 [==============================] - 51s 198ms/step - loss: 3.3970 - accuracy: 0.3915 - val_loss: 4.1776 - val_accuracy: 0.3460\n",
      "Epoch 50/100\n",
      "255/255 [==============================] - 50s 198ms/step - loss: 3.3785 - accuracy: 0.3931 - val_loss: 4.1765 - val_accuracy: 0.3462\n",
      "Epoch 51/100\n",
      "255/255 [==============================] - 50s 198ms/step - loss: 3.3586 - accuracy: 0.3952 - val_loss: 4.1732 - val_accuracy: 0.3464\n",
      "Epoch 52/100\n",
      "255/255 [==============================] - 50s 197ms/step - loss: 3.3394 - accuracy: 0.3972 - val_loss: 4.1713 - val_accuracy: 0.3462\n",
      "Epoch 53/100\n",
      "255/255 [==============================] - 51s 199ms/step - loss: 3.3198 - accuracy: 0.3989 - val_loss: 4.1694 - val_accuracy: 0.3469\n",
      "Epoch 54/100\n",
      "255/255 [==============================] - 51s 199ms/step - loss: 3.3013 - accuracy: 0.4007 - val_loss: 4.1680 - val_accuracy: 0.3471\n",
      "Epoch 55/100\n",
      "255/255 [==============================] - 51s 198ms/step - loss: 3.2824 - accuracy: 0.4026 - val_loss: 4.1634 - val_accuracy: 0.3476\n",
      "Epoch 56/100\n",
      "255/255 [==============================] - 51s 199ms/step - loss: 3.2644 - accuracy: 0.4043 - val_loss: 4.1638 - val_accuracy: 0.3474\n",
      "Epoch 57/100\n",
      "255/255 [==============================] - 51s 199ms/step - loss: 3.2451 - accuracy: 0.4063 - val_loss: 4.1604 - val_accuracy: 0.3481\n",
      "Epoch 58/100\n",
      "255/255 [==============================] - 51s 199ms/step - loss: 3.2272 - accuracy: 0.4084 - val_loss: 4.1603 - val_accuracy: 0.3489\n",
      "Epoch 59/100\n",
      "255/255 [==============================] - 51s 198ms/step - loss: 3.2094 - accuracy: 0.4098 - val_loss: 4.1566 - val_accuracy: 0.3484\n",
      "Epoch 60/100\n",
      "255/255 [==============================] - 51s 198ms/step - loss: 3.1906 - accuracy: 0.4118 - val_loss: 4.1552 - val_accuracy: 0.3493\n",
      "Epoch 61/100\n",
      "255/255 [==============================] - 51s 198ms/step - loss: 3.1723 - accuracy: 0.4135 - val_loss: 4.1536 - val_accuracy: 0.3491\n",
      "Epoch 62/100\n",
      "255/255 [==============================] - 51s 198ms/step - loss: 3.1549 - accuracy: 0.4155 - val_loss: 4.1541 - val_accuracy: 0.3496\n",
      "Epoch 63/100\n",
      "255/255 [==============================] - 51s 198ms/step - loss: 3.1371 - accuracy: 0.4175 - val_loss: 4.1552 - val_accuracy: 0.3497\n",
      "Epoch 00063: early stopping\n"
     ]
    }
   ],
   "source": [
    "es = EarlyStopping(monitor='val_loss', patience=2, verbose=1)\n",
    "history = model.fit(x=[encoder_input_train, decoder_input_train], y=decoder_target_train, \\\n",
    "          validation_data=([encoder_input_test, decoder_input_test], decoder_target_test), \\\n",
    "          batch_size=256, callbacks=[es], epochs=100)"
   ]
  },
  {
   "cell_type": "code",
   "execution_count": 55,
   "id": "0a0448e6",
   "metadata": {},
   "outputs": [
    {
     "data": {
      "image/png": "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\n",
      "text/plain": [
       "<Figure size 864x360 with 2 Axes>"
      ]
     },
     "metadata": {
      "needs_background": "light"
     },
     "output_type": "display_data"
    }
   ],
   "source": [
    "# 훈련 결과를 시각화합니다.\n",
    "def plot_history(history):\n",
    "    plt.figure(figsize=(12, 5))\n",
    "\n",
    "    # 정확도 플롯\n",
    "    plt.subplot(1, 2, 1)\n",
    "    plt.plot(history.history['accuracy'], label='Train Accuracy', color='blue', linestyle='-', marker='o')\n",
    "    plt.plot(history.history['val_accuracy'], label='Test Accuracy', color='orange', linestyle='--', marker='x')\n",
    "    plt.title('Training and Test Accuracy')\n",
    "    plt.xlabel('Epoch')\n",
    "    plt.ylabel('Accuracy')\n",
    "    plt.legend()\n",
    "\n",
    "    # 손실 플롯\n",
    "    plt.subplot(1, 2, 2)\n",
    "    plt.plot(history.history['loss'], label='Train Loss', color='blue', linestyle='-', marker='o')\n",
    "    plt.plot(history.history['val_loss'], label='Test Loss', color='orange', linestyle='--', marker='x')\n",
    "    plt.title('Training and Test Loss')\n",
    "    plt.xlabel('Epoch')\n",
    "    plt.ylabel('Loss')\n",
    "    plt.legend()\n",
    "\n",
    "    plt.show()\n",
    "\n",
    "plot_history(history)\n",
    "\n",
    "# 모델을 로드하고 이미지를 예측하는 함수입니다.\n",
    "def load_and_predict(model_path, img_path):\n",
    "    try:\n",
    "        # 저장된 모델을 로드합니다.\n",
    "        model = load_model(model_path, custom_objects={\n",
    "            'Xception': Xception,\n",
    "            'GlobalAveragePooling2D': GlobalAveragePooling2D,\n",
    "            'Dense': Dense,\n",
    "            'BatchNormalization': BatchNormalization,\n",
    "            'Dropout': Dropout\n",
    "        })\n",
    "\n",
    "        # 이미지를 로드하고 전처리합니다.\n",
    "        img = load_img(img_path, target_size=(299, 299))\n",
    "        img_array = img_to_array(img)\n",
    "        img_array = np.expand_dims(img_array, axis=0)\n",
    "        img_array = tf.keras.applications.xception.preprocess_input(img_array)\n",
    "\n",
    "        # 예측을 수행합니다.\n",
    "        predictions = model.predict(img_array)\n",
    "        predicted_class = np.argmax(predictions, axis=1)[0]\n",
    "        predicted_label = class_names[predicted_class]\n",
    "\n",
    "        return {\n",
    "            \"predicted_label\": predicted_label,  # 예측된 레이블입니다.\n",
    "            \"prediction_score\": f\"{predictions[0][predicted_class]:.5f}\"  # 예측 확률입니다.\n",
    "        }\n",
    "    except Exception as e:\n",
    "        return {\"error\": str(e)}  # 예외가 발생하면 오류 메시지를 반환합니다."
   ]
  },
  {
   "cell_type": "code",
   "execution_count": null,
   "id": "530ba472",
   "metadata": {},
   "outputs": [],
   "source": [
    "src_index_to_word = src_tokenizer.index_word # 원문 단어 집합에서 정수 -> 단어를 얻음\n",
    "tar_word_to_index = tar_tokenizer.word_index # 요약 단어 집합에서 단어 -> 정수를 얻음\n",
    "tar_index_to_word = tar_tokenizer.index_word # 요약 단어 집합에서 정수 -> 단어를 얻음"
   ]
  },
  {
   "cell_type": "code",
   "execution_count": 56,
   "id": "6d64404f",
   "metadata": {},
   "outputs": [],
   "source": [
    "import requests\n",
    "from summa.summarizer import summarize"
   ]
  },
  {
   "cell_type": "code",
   "execution_count": 57,
   "id": "7bb57aae",
   "metadata": {},
   "outputs": [],
   "source": [
    "text = requests.get('http://rare-technologies.com/the_matrix_synopsis.txt').text"
   ]
  },
  {
   "cell_type": "code",
   "execution_count": 58,
   "id": "74690460",
   "metadata": {},
   "outputs": [
    {
     "name": "stdout",
     "output_type": "stream",
     "text": [
      "The screen is filled with green, cascading code which gives way to the title, The Matrix.\r\n",
      "\r\n",
      "A phone rings and text appears on the screen: \"Call trans opt: received. 2-19-98 13:24:18 REC: Log>\" As a conversation takes place between Trinity (Carrie-Anne Moss) and Cypher (Joe Pantoliano), two free humans, a table of random green numbers are being scanned and individual numbers selected, creating a series of digits not unlike an ordinary phone number, as if a code is being deciphered or a call is being traced.\r\n",
      "\r\n",
      "Trinity discusses some unknown person. Cypher taunts Trinity, suggesting she enjoys watching him. Trinity counters that \"Morpheus (Laurence Fishburne) says he may be 'the One',\" just as the sound of a number being selected alerts Trinity that someone may be tracing their call. She ends the call.\r\n",
      "\r\n",
      "Armed policemen move down a darkened, decrepit hallway in the Heart O' the City Hotel, their flashlight beam bouncing just ahead of them. They come to room 303, kick down the door and find a woman dressed in black, facing away from them. It's Trinity. She brings her hands up from the laptop she's working on at their command.\r\n",
      "\r\n",
      "Outside the hotel a car drives up and three agents appear in neatly pressed black suits. They are Agent Smith (Hugo Weaving), Agent Brown (Paul Goddard), and Agent Jones (Robert Taylor). Agent Smith and the presiding police lieutenant argue. Agent Smith admonishes the policeman that they were given specific orders to contact the agents first, for their\n"
     ]
    }
   ],
   "source": [
    "print(text[:1500])"
   ]
  },
  {
   "cell_type": "code",
   "execution_count": 59,
   "id": "03c6ca19",
   "metadata": {},
   "outputs": [
    {
     "name": "stdout",
     "output_type": "stream",
     "text": [
      "Summary:\n",
      "Morpheus, Trinity, Neo, Apoc, Switch, Mouse and Cypher are jacked into the Matrix.\n",
      "Trinity brings the helicopter down to the floor that Morpheus is on and Neo opens fire on the three Agents.\n"
     ]
    }
   ],
   "source": [
    "print('Summary:')\n",
    "print(summarize(text, ratio=0.005))"
   ]
  },
  {
   "cell_type": "code",
   "execution_count": 60,
   "id": "2f66c304",
   "metadata": {},
   "outputs": [
    {
     "name": "stdout",
     "output_type": "stream",
     "text": [
      "Summary:\n",
      "['Morpheus, Trinity, Neo, Apoc, Switch, Mouse and Cypher are jacked into the Matrix.', 'Trinity brings the helicopter down to the floor that Morpheus is on and Neo opens fire on the three Agents.']\n"
     ]
    }
   ],
   "source": [
    "print('Summary:')\n",
    "print(summarize(text, ratio=0.005, split=True))"
   ]
  },
  {
   "cell_type": "code",
   "execution_count": 61,
   "id": "2538c4ae",
   "metadata": {},
   "outputs": [
    {
     "name": "stdout",
     "output_type": "stream",
     "text": [
      "Summary:\n",
      "Trinity takes Neo to Morpheus.\n",
      "Morpheus, Trinity, Neo, Apoc, Switch, Mouse and Cypher are jacked into the Matrix.\n",
      "Trinity brings the helicopter down to the floor that Morpheus is on and Neo opens fire on the three Agents.\n"
     ]
    }
   ],
   "source": [
    "print('Summary:')\n",
    "print(summarize(text, words=50))"
   ]
  },
  {
   "cell_type": "code",
   "execution_count": null,
   "id": "4c13a334",
   "metadata": {},
   "outputs": [],
   "source": []
  }
 ],
 "metadata": {
  "kernelspec": {
   "display_name": "Python 3 (ipykernel)",
   "language": "python",
   "name": "python3"
  },
  "language_info": {
   "codemirror_mode": {
    "name": "ipython",
    "version": 3
   },
   "file_extension": ".py",
   "mimetype": "text/x-python",
   "name": "python",
   "nbconvert_exporter": "python",
   "pygments_lexer": "ipython3",
   "version": "3.9.7"
  }
 },
 "nbformat": 4,
 "nbformat_minor": 5
}

# 회고
- 권영 : 자연어 처리 너무 어려웠습니다. 
         성능향상이 너무 더뎌 기본모델을 사용하다가 트랜스포머로 모델을 급히 변경했다.
